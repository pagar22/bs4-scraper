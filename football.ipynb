{
 "cells": [
  {
   "cell_type": "code",
   "execution_count": 4,
   "metadata": {},
   "outputs": [
    {
     "name": "stdout",
     "output_type": "stream",
     "text": [
      "<Response [404]>\n"
     ]
    }
   ],
   "source": [
    "import requests\n",
    "\n",
    "url = \"https://match.uefa.com/v5/matches\"\n",
    "\n",
    "query_params = {\n",
    "    \"competitions\": \"UEFA Champions League\",\n",
    "    \"season\": \"2020-2021\"\n",
    "}\n",
    "\n",
    "response = requests.get(url, params=query_params)\n",
    "\n",
    "if response.status_code == 200:\n",
    "    matches = response.json()[\"matches\"]\n",
    "    for match in matches:\n",
    "        away_team = match[\"away\"][\"name\"]\n",
    "        home_team = match[\"home\"][\"name\"]\n",
    "        away_score = match[\"score\"][\"fullTime\"][\"away\"]\n",
    "        home_score = match[\"score\"][\"fullTime\"][\"home\"]\n",
    "        print(f\"{away_team} {away_score} - {home_score} {home_team}\")\n",
    "else:\n",
    "    print(response)"
   ]
  }
 ],
 "metadata": {
  "kernelspec": {
   "display_name": "soup",
   "language": "python",
   "name": "python3"
  },
  "language_info": {
   "codemirror_mode": {
    "name": "ipython",
    "version": 3
   },
   "file_extension": ".py",
   "mimetype": "text/x-python",
   "name": "python",
   "nbconvert_exporter": "python",
   "pygments_lexer": "ipython3",
   "version": "3.11.1"
  },
  "orig_nbformat": 4,
  "vscode": {
   "interpreter": {
    "hash": "5f71449ef29de0b9c33820f1c687d20e20eb0333d993d2833467b1562072113e"
   }
  }
 },
 "nbformat": 4,
 "nbformat_minor": 2
}
