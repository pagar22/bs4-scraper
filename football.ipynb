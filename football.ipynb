{
 "cells": [
  {
   "cell_type": "code",
   "execution_count": 2,
   "metadata": {},
   "outputs": [
    {
     "ename": "TypeError",
     "evalue": "can only concatenate str (not \"Response\") to str",
     "output_type": "error",
     "traceback": [
      "\u001b[0;31m---------------------------------------------------------------------------\u001b[0m",
      "\u001b[0;31mTypeError\u001b[0m                                 Traceback (most recent call last)",
      "Cell \u001b[0;32mIn[2], line 21\u001b[0m\n\u001b[1;32m     19\u001b[0m         \u001b[39mprint\u001b[39m(\u001b[39mf\u001b[39m\u001b[39m\"\u001b[39m\u001b[39m{\u001b[39;00maway_team\u001b[39m}\u001b[39;00m\u001b[39m \u001b[39m\u001b[39m{\u001b[39;00maway_score\u001b[39m}\u001b[39;00m\u001b[39m - \u001b[39m\u001b[39m{\u001b[39;00mhome_score\u001b[39m}\u001b[39;00m\u001b[39m \u001b[39m\u001b[39m{\u001b[39;00mhome_team\u001b[39m}\u001b[39;00m\u001b[39m\"\u001b[39m)\n\u001b[1;32m     20\u001b[0m \u001b[39melse\u001b[39;00m:\n\u001b[0;32m---> 21\u001b[0m     \u001b[39mprint\u001b[39m(\u001b[39m\"\u001b[39;49m\u001b[39mError: API request failed\u001b[39;49m\u001b[39m\"\u001b[39;49m \u001b[39m+\u001b[39;49m response)\n",
      "\u001b[0;31mTypeError\u001b[0m: can only concatenate str (not \"Response\") to str"
     ]
    }
   ],
   "source": [
    "import requests\n",
    "\n",
    "url = \"https://match.uefa.com/v5/matches\"\n",
    "\n",
    "query_params = {\n",
    "    \"competitions\": \"UEFA Champions League\",\n",
    "    \"season\": \"2020-2021\"\n",
    "}\n",
    "\n",
    "response = requests.get(url, params=query_params)\n",
    "\n",
    "if response.status_code == 200:\n",
    "    matches = response.json()[\"matches\"]\n",
    "    for match in matches:\n",
    "        away_team = match[\"away\"][\"name\"]\n",
    "        home_team = match[\"home\"][\"name\"]\n",
    "        away_score = match[\"score\"][\"fullTime\"][\"away\"]\n",
    "        home_score = match[\"score\"][\"fullTime\"][\"home\"]\n",
    "        print(f\"{away_team} {away_score} - {home_score} {home_team}\")\n",
    "else:\n",
    "    print(response)"
   ]
  }
 ],
 "metadata": {
  "kernelspec": {
   "display_name": "soup",
   "language": "python",
   "name": "python3"
  },
  "language_info": {
   "codemirror_mode": {
    "name": "ipython",
    "version": 3
   },
   "file_extension": ".py",
   "mimetype": "text/x-python",
   "name": "python",
   "nbconvert_exporter": "python",
   "pygments_lexer": "ipython3",
   "version": "3.11.1"
  },
  "orig_nbformat": 4,
  "vscode": {
   "interpreter": {
    "hash": "5f71449ef29de0b9c33820f1c687d20e20eb0333d993d2833467b1562072113e"
   }
  }
 },
 "nbformat": 4,
 "nbformat_minor": 2
}
